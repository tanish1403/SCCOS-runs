{
 "cells": [
  {
   "cell_type": "code",
   "execution_count": 1,
   "id": "e8437a38",
   "metadata": {
    "execution": {
     "iopub.execute_input": "2025-03-04T11:11:09.645981Z",
     "iopub.status.busy": "2025-03-04T11:11:09.645652Z",
     "iopub.status.idle": "2025-03-04T11:11:15.430118Z",
     "shell.execute_reply": "2025-03-04T11:11:15.429250Z"
    },
    "papermill": {
     "duration": 5.790207,
     "end_time": "2025-03-04T11:11:15.431646",
     "exception": false,
     "start_time": "2025-03-04T11:11:09.641439",
     "status": "completed"
    },
    "tags": []
   },
   "outputs": [
    {
     "name": "stdout",
     "output_type": "stream",
     "text": [
      "\u001b[2K   \u001b[90m━━━━━━━━━━━━━━━━━━━━━━━━━━━━━━━━━━━━━━━━\u001b[0m \u001b[32m922.2/922.2 kB\u001b[0m \u001b[31m16.3 MB/s\u001b[0m eta \u001b[36m0:00:00\u001b[0m\r\n",
      "\u001b[?25h"
     ]
    }
   ],
   "source": [
    "# Install required packages\n",
    "!pip install ultralytics xmltodict wandb -q"
   ]
  },
  {
   "cell_type": "code",
   "execution_count": 2,
   "id": "fc58a0f9",
   "metadata": {
    "execution": {
     "iopub.execute_input": "2025-03-04T11:11:15.438507Z",
     "iopub.status.busy": "2025-03-04T11:11:15.438255Z",
     "iopub.status.idle": "2025-03-04T11:12:27.566833Z",
     "shell.execute_reply": "2025-03-04T11:12:27.565899Z"
    },
    "papermill": {
     "duration": 72.135035,
     "end_time": "2025-03-04T11:12:27.569820",
     "exception": false,
     "start_time": "2025-03-04T11:11:15.434785",
     "status": "completed"
    },
    "tags": []
   },
   "outputs": [
    {
     "name": "stdout",
     "output_type": "stream",
     "text": [
      "Dataset split: Train=2968, Val=371, Test=372\n"
     ]
    }
   ],
   "source": [
    "import os\n",
    "import shutil\n",
    "import random\n",
    "\n",
    "dataset_path = \"/kaggle/input/sccos-dataset/\"\n",
    "working_dir = \"/kaggle/working/yolo_dataset\"\n",
    "train_images_dir = os.path.join(working_dir, \"train/images\")\n",
    "train_labels_dir = os.path.join(working_dir, \"train/labels\")\n",
    "val_images_dir = os.path.join(working_dir, \"val/images\")\n",
    "val_labels_dir = os.path.join(working_dir, \"val/labels\")\n",
    "test_images_dir = os.path.join(working_dir, \"test/images\")\n",
    "test_labels_dir = os.path.join(working_dir, \"test/labels\")\n",
    "\n",
    "# Clean and recreate directories\n",
    "if os.path.exists(working_dir):\n",
    "    shutil.rmtree(working_dir)\n",
    "for dir_path in [train_images_dir, train_labels_dir, val_images_dir, val_labels_dir, test_images_dir, test_labels_dir]:\n",
    "    os.makedirs(dir_path, exist_ok=True)\n",
    "\n",
    "# Source paths\n",
    "src_img_dir = os.path.join(dataset_path, \"train/images\")\n",
    "src_ann_dir = os.path.join(dataset_path, \"train/annotations\")\n",
    "\n",
    "# Get all image files\n",
    "image_files = [f for f in os.listdir(src_img_dir) if f.endswith('.png')]\n",
    "random.seed(42)  # For reproducibility\n",
    "random.shuffle(image_files)\n",
    "\n",
    "# Split ratios: 70% train, 20% val, 10% test\n",
    "total_size = len(image_files)\n",
    "train_size = int(0.8 * total_size)  # ~2597 images\n",
    "val_size = int(0.1 * total_size)    # ~742 images\n",
    "test_size = total_size - train_size - val_size  # ~372 images\n",
    "\n",
    "train_files = image_files[:train_size]\n",
    "val_files = image_files[train_size:train_size + val_size]\n",
    "test_files = image_files[train_size + val_size:]\n",
    "\n",
    "# Function to copy files\n",
    "def copy_files(file_list, src_img_dir, src_ann_dir, dst_img_dir, dst_ann_dir):\n",
    "    for img_file in file_list:\n",
    "        shutil.copy(os.path.join(src_img_dir, img_file), os.path.join(dst_img_dir, img_file))\n",
    "        ann_file = img_file.replace('.png', '.xml')\n",
    "        if os.path.exists(os.path.join(src_ann_dir, ann_file)):\n",
    "            shutil.copy(os.path.join(src_ann_dir, ann_file), os.path.join(dst_ann_dir, ann_file))\n",
    "\n",
    "# Copy files to respective directories\n",
    "copy_files(train_files, src_img_dir, src_ann_dir, train_images_dir, train_labels_dir)\n",
    "copy_files(val_files, src_img_dir, src_ann_dir, val_images_dir, val_labels_dir)\n",
    "copy_files(test_files, src_img_dir, src_ann_dir, test_images_dir, test_labels_dir)\n",
    "\n",
    "print(f\"Dataset split: Train={len(train_files)}, Val={len(val_files)}, Test={len(test_files)}\")"
   ]
  },
  {
   "cell_type": "code",
   "execution_count": 3,
   "id": "4fa4e981",
   "metadata": {
    "execution": {
     "iopub.execute_input": "2025-03-04T11:12:27.576090Z",
     "iopub.status.busy": "2025-03-04T11:12:27.575805Z",
     "iopub.status.idle": "2025-03-04T11:12:29.393428Z",
     "shell.execute_reply": "2025-03-04T11:12:29.392498Z"
    },
    "papermill": {
     "duration": 1.822198,
     "end_time": "2025-03-04T11:12:29.394751",
     "exception": false,
     "start_time": "2025-03-04T11:12:27.572553",
     "status": "completed"
    },
    "tags": []
   },
   "outputs": [
    {
     "name": "stdout",
     "output_type": "stream",
     "text": [
      "Converting train set...\n"
     ]
    },
    {
     "name": "stderr",
     "output_type": "stream",
     "text": [
      "100%|██████████| 2968/2968 [00:01<00:00, 2128.40it/s]\n"
     ]
    },
    {
     "name": "stdout",
     "output_type": "stream",
     "text": [
      "Converting val set...\n"
     ]
    },
    {
     "name": "stderr",
     "output_type": "stream",
     "text": [
      "100%|██████████| 371/371 [00:00<00:00, 2024.64it/s]\n"
     ]
    },
    {
     "name": "stdout",
     "output_type": "stream",
     "text": [
      "Converting test set...\n"
     ]
    },
    {
     "name": "stderr",
     "output_type": "stream",
     "text": [
      "100%|██████████| 372/372 [00:00<00:00, 2103.92it/s]"
     ]
    },
    {
     "name": "stdout",
     "output_type": "stream",
     "text": [
      "Dataset conversion complete.\n"
     ]
    },
    {
     "name": "stderr",
     "output_type": "stream",
     "text": [
      "\n"
     ]
    }
   ],
   "source": [
    "import xmltodict\n",
    "import tqdm\n",
    "import math\n",
    "\n",
    "def convert_robndbox_to_corners(cx, cy, w, h, angle):\n",
    "    \"\"\"Convert center-based robndbox to 4 corner points.\"\"\"\n",
    "    angle = float(angle)\n",
    "    cx, cy, w, h = float(cx), float(cy), float(w), float(h)\n",
    "    cos_a = math.cos(angle)\n",
    "    sin_a = math.sin(angle)\n",
    "\n",
    "    dx, dy = w / 2, h / 2\n",
    "    corners = [(-dx, -dy), (dx, -dy), (dx, dy), (-dx, dy)]\n",
    "    rotated_corners = [\n",
    "        (cx + x * cos_a - y * sin_a, cy + x * sin_a + y * cos_a)\n",
    "        for x, y in corners\n",
    "    ]\n",
    "    return rotated_corners\n",
    "\n",
    "def convert_xml_to_yolo_obb_corners(xml_path, img_path, output_img_dir, output_label_dir):\n",
    "    img_filename = os.path.splitext(os.path.basename(img_path))[0] + \".png\"\n",
    "    # No need to copy image here since it's already copied in Cell 2\n",
    "\n",
    "    with open(xml_path, 'r') as f:\n",
    "        xml_data = xmltodict.parse(f.read())\n",
    "    objects = xml_data['annotation'].get('object', [])\n",
    "    if not isinstance(objects, list):\n",
    "        objects = [objects] if objects else []\n",
    "\n",
    "    img_size = 1024  # SCCOS dataset image size\n",
    "    txt_lines = []\n",
    "    for obj in objects:\n",
    "        if obj and 'robndbox' in obj:\n",
    "            robndbox = obj['robndbox']\n",
    "            try:\n",
    "                cx = float(robndbox['cx'])\n",
    "                cy = float(robndbox['cy'])\n",
    "                w = float(robndbox['w'])\n",
    "                h = float(robndbox['h'])\n",
    "                angle = float(robndbox['angle'])\n",
    "                (x1, y1), (x2, y2), (x3, y3), (x4, y4) = convert_robndbox_to_corners(cx, cy, w, h, angle)\n",
    "                \n",
    "                # Normalize coordinates\n",
    "                x1, y1 = x1 / img_size, y1 / img_size\n",
    "                x2, y2 = x2 / img_size, y2 / img_size\n",
    "                x3, y3 = x3 / img_size, y3 / img_size\n",
    "                x4, y4 = x4 / img_size, y4 / img_size\n",
    "                \n",
    "                class_id = 0  # \"ship\" as class 0\n",
    "                txt_lines.append(f\"{class_id} {x1:.6f} {y1:.6f} {x2:.6f} {y2:.6f} {x3:.6f} {y3:.6f} {x4:.6f} {y4:.6f}\")\n",
    "            except (KeyError, ValueError) as e:\n",
    "                print(f\"Invalid robndbox data in {xml_path}: {e}\")\n",
    "                continue\n",
    "\n",
    "    txt_filename = os.path.splitext(os.path.basename(xml_path))[0] + \".txt\"\n",
    "    txt_path = os.path.join(output_label_dir, txt_filename)\n",
    "    if txt_lines:\n",
    "        with open(txt_path, 'w') as f:\n",
    "            f.write(\"\\n\".join(txt_lines))\n",
    "    else:\n",
    "        print(f\"No valid objects in {xml_path}, skipping label file.\")\n",
    "\n",
    "# Process train, val, and test sets\n",
    "for split, img_dir, label_dir in [\n",
    "    (\"train\", train_images_dir, train_labels_dir),\n",
    "    (\"val\", val_images_dir, val_labels_dir),\n",
    "    (\"test\", test_images_dir, test_labels_dir)\n",
    "]:\n",
    "    print(f\"Converting {split} set...\")\n",
    "    for xml_file in tqdm.tqdm(os.listdir(label_dir)):\n",
    "        if xml_file.endswith(\".xml\"):\n",
    "            img_file = os.path.join(img_dir, xml_file.replace(\".xml\", \".png\"))\n",
    "            if os.path.exists(img_file):\n",
    "                convert_xml_to_yolo_obb_corners(\n",
    "                    os.path.join(label_dir, xml_file),\n",
    "                    img_file,\n",
    "                    img_dir,\n",
    "                    label_dir\n",
    "                )\n",
    "            # Remove XML file after conversion\n",
    "            os.remove(os.path.join(label_dir, xml_file))\n",
    "\n",
    "print(\"Dataset conversion complete.\")"
   ]
  },
  {
   "cell_type": "code",
   "execution_count": 4,
   "id": "7bc64390",
   "metadata": {
    "execution": {
     "iopub.execute_input": "2025-03-04T11:12:29.403649Z",
     "iopub.status.busy": "2025-03-04T11:12:29.403409Z",
     "iopub.status.idle": "2025-03-04T11:12:29.414580Z",
     "shell.execute_reply": "2025-03-04T11:12:29.413611Z"
    },
    "papermill": {
     "duration": 0.016978,
     "end_time": "2025-03-04T11:12:29.415964",
     "exception": false,
     "start_time": "2025-03-04T11:12:29.398986",
     "status": "completed"
    },
    "tags": []
   },
   "outputs": [
    {
     "name": "stdout",
     "output_type": "stream",
     "text": [
      "Train images: 2968\n",
      "Train labels: 2968\n",
      "Val images: 371\n",
      "Val labels: 371\n",
      "Test images: 372\n",
      "Test labels: 372\n",
      "Sample label (0008.txt):\n",
      "0 0.852496 0.235036 0.918159 0.249720 0.809446 0.735872 0.743783 0.721188\n",
      "0 0.080527 0.900865 0.098952 0.914299 0.053253 0.976977 0.034828 0.963543\n",
      "0 0.131338 0.832076 0.145384 0.842317 0.109178 0.891975 0.095132 0.881734\n",
      "0 0.274821 0.567486 0.308875 0.589797 0.164564 0.810063 0.130509 0.787751\n",
      "Number of columns: 9\n"
     ]
    }
   ],
   "source": [
    "for split, img_dir, label_dir in [\n",
    "    (\"train\", train_images_dir, train_labels_dir),\n",
    "    (\"val\", val_images_dir, val_labels_dir),\n",
    "    (\"test\", test_images_dir, test_labels_dir)\n",
    "]:\n",
    "    images = len(os.listdir(img_dir))\n",
    "    labels = len(os.listdir(label_dir))\n",
    "    print(f\"{split.capitalize()} images: {images}\")\n",
    "    print(f\"{split.capitalize()} labels: {labels}\")\n",
    "\n",
    "# Check sample label\n",
    "sample_label = os.path.join(train_labels_dir, \"0008.txt\")\n",
    "if os.path.exists(sample_label):\n",
    "    with open(sample_label, 'r') as f:\n",
    "        content = f.read().strip()\n",
    "        print(f\"Sample label (0008.txt):\")\n",
    "        print(content)\n",
    "        columns = content.splitlines()[0].split()\n",
    "        print(f\"Number of columns: {len(columns)}\")\n",
    "else:\n",
    "    print(f\"Sample label {sample_label} not found!\")"
   ]
  },
  {
   "cell_type": "code",
   "execution_count": 5,
   "id": "287a78bf",
   "metadata": {
    "execution": {
     "iopub.execute_input": "2025-03-04T11:12:29.424810Z",
     "iopub.status.busy": "2025-03-04T11:12:29.424599Z",
     "iopub.status.idle": "2025-03-04T11:12:29.559044Z",
     "shell.execute_reply": "2025-03-04T11:12:29.558146Z"
    },
    "papermill": {
     "duration": 0.140481,
     "end_time": "2025-03-04T11:12:29.560623",
     "exception": false,
     "start_time": "2025-03-04T11:12:29.420142",
     "status": "completed"
    },
    "tags": []
   },
   "outputs": [
    {
     "name": "stdout",
     "output_type": "stream",
     "text": [
      "names:\r\n",
      "- ship\r\n",
      "nc: 1\r\n",
      "path: /kaggle/working/yolo_dataset\r\n",
      "test: test/images\r\n",
      "train: train/images\r\n",
      "val: val/images\r\n"
     ]
    }
   ],
   "source": [
    "import yaml\n",
    "\n",
    "dataset_config = {\n",
    "    \"path\": working_dir,\n",
    "    \"train\": \"train/images\",\n",
    "    \"val\": \"val/images\",\n",
    "    \"test\": \"test/images\",\n",
    "    \"nc\": 1,\n",
    "    \"names\": [\"ship\"]\n",
    "}\n",
    "\n",
    "yaml_path = os.path.join(working_dir, \"dataset.yaml\")\n",
    "with open(yaml_path, \"w\") as f:\n",
    "    yaml.dump(dataset_config, f)\n",
    "\n",
    "!cat {yaml_path}"
   ]
  },
  {
   "cell_type": "code",
   "execution_count": 6,
   "id": "fd716715",
   "metadata": {
    "execution": {
     "iopub.execute_input": "2025-03-04T11:12:29.570065Z",
     "iopub.status.busy": "2025-03-04T11:12:29.569779Z",
     "iopub.status.idle": "2025-03-04T11:12:32.885067Z",
     "shell.execute_reply": "2025-03-04T11:12:32.884123Z"
    },
    "papermill": {
     "duration": 3.321464,
     "end_time": "2025-03-04T11:12:32.886547",
     "exception": false,
     "start_time": "2025-03-04T11:12:29.565083",
     "status": "completed"
    },
    "tags": []
   },
   "outputs": [
    {
     "name": "stderr",
     "output_type": "stream",
     "text": [
      "\u001b[34m\u001b[1mwandb\u001b[0m: Using wandb-core as the SDK backend.  Please refer to https://wandb.me/wandb-core for more information.\n",
      "\u001b[34m\u001b[1mwandb\u001b[0m: Currently logged in as: \u001b[33mtanish-jdh2020\u001b[0m. Use \u001b[1m`wandb login --relogin`\u001b[0m to force relogin\n",
      "\u001b[34m\u001b[1mwandb\u001b[0m: \u001b[33mWARNING\u001b[0m If you're specifying your api key in code, ensure this code is not shared publicly.\n",
      "\u001b[34m\u001b[1mwandb\u001b[0m: \u001b[33mWARNING\u001b[0m Consider setting the WANDB_API_KEY environment variable, or running `wandb login` from the command line.\n",
      "\u001b[34m\u001b[1mwandb\u001b[0m: Appending key for api.wandb.ai to your netrc file: /root/.netrc\n"
     ]
    },
    {
     "data": {
      "text/plain": [
       "True"
      ]
     },
     "execution_count": 6,
     "metadata": {},
     "output_type": "execute_result"
    }
   ],
   "source": [
    "import wandb\n",
    "from kaggle_secrets import UserSecretsClient\n",
    "\n",
    "user_secrets = UserSecretsClient()\n",
    "wandb_api_key = user_secrets.get_secret(\"wandb_api_key\")\n",
    "wandb.login(key=wandb_api_key)"
   ]
  },
  {
   "cell_type": "code",
   "execution_count": 7,
   "id": "373132f2",
   "metadata": {
    "execution": {
     "iopub.execute_input": "2025-03-04T11:12:32.898030Z",
     "iopub.status.busy": "2025-03-04T11:12:32.897703Z",
     "iopub.status.idle": "2025-03-04T12:36:35.093211Z",
     "shell.execute_reply": "2025-03-04T12:36:35.092211Z"
    },
    "papermill": {
     "duration": 5042.202169,
     "end_time": "2025-03-04T12:36:35.094718",
     "exception": false,
     "start_time": "2025-03-04T11:12:32.892549",
     "status": "completed"
    },
    "tags": []
   },
   "outputs": [
    {
     "name": "stdout",
     "output_type": "stream",
     "text": [
      "Creating new Ultralytics Settings v0.0.6 file ✅ \n",
      "View Ultralytics Settings with 'yolo settings' or at '/root/.config/Ultralytics/settings.json'\n",
      "Update Settings with 'yolo settings key=value', i.e. 'yolo settings runs_dir=path/to/dir'. For help see https://docs.ultralytics.com/quickstart/#ultralytics-settings.\n",
      "Downloading https://github.com/ultralytics/assets/releases/download/v8.3.0/yolov8n-obb.pt to 'yolov8n-obb.pt'...\n"
     ]
    },
    {
     "name": "stderr",
     "output_type": "stream",
     "text": [
      "100%|██████████| 6.26M/6.26M [00:00<00:00, 83.5MB/s]\n"
     ]
    },
    {
     "name": "stdout",
     "output_type": "stream",
     "text": [
      "Ultralytics 8.3.82 🚀 Python-3.10.12 torch-2.5.1+cu121 CUDA:0 (Tesla P100-PCIE-16GB, 16269MiB)\n",
      "\u001b[34m\u001b[1mengine/trainer: \u001b[0mtask=obb, mode=train, model=yolov8n-obb.pt, data=/kaggle/working/yolo_dataset/dataset.yaml, epochs=50, time=None, patience=10, batch=8, imgsz=1024, save=True, save_period=5, cache=False, device=0, workers=4, project=/kaggle/working/runs, name=yolov8-obb-train, exist_ok=False, pretrained=True, optimizer=auto, verbose=True, seed=42, deterministic=True, single_cls=False, rect=False, cos_lr=False, close_mosaic=10, resume=False, amp=True, fraction=1.0, profile=False, freeze=None, multi_scale=False, overlap_mask=True, mask_ratio=4, dropout=0.0, val=True, split=val, save_json=False, save_hybrid=False, conf=None, iou=0.7, max_det=300, half=False, dnn=False, plots=True, source=None, vid_stride=1, stream_buffer=False, visualize=False, augment=False, agnostic_nms=False, classes=None, retina_masks=False, embed=None, show=False, save_frames=False, save_txt=False, save_conf=False, save_crop=False, show_labels=True, show_conf=True, show_boxes=True, line_width=None, format=torchscript, keras=False, optimize=False, int8=False, dynamic=False, simplify=True, opset=None, workspace=None, nms=False, lr0=0.01, lrf=0.01, momentum=0.937, weight_decay=0.0005, warmup_epochs=3.0, warmup_momentum=0.8, warmup_bias_lr=0.1, box=7.5, cls=0.5, dfl=1.5, pose=12.0, kobj=1.0, nbs=64, hsv_h=0.015, hsv_s=0.7, hsv_v=0.4, degrees=0.0, translate=0.1, scale=0.5, shear=0.0, perspective=0.0, flipud=0.0, fliplr=0.5, bgr=0.0, mosaic=1.0, mixup=0.0, copy_paste=0.0, copy_paste_mode=flip, auto_augment=randaugment, erasing=0.4, crop_fraction=1.0, cfg=None, tracker=botsort.yaml, save_dir=/kaggle/working/runs/yolov8-obb-train\n",
      "Downloading https://ultralytics.com/assets/Arial.ttf to '/root/.config/Ultralytics/Arial.ttf'...\n"
     ]
    },
    {
     "name": "stderr",
     "output_type": "stream",
     "text": [
      "100%|██████████| 755k/755k [00:00<00:00, 18.2MB/s]\n"
     ]
    },
    {
     "name": "stdout",
     "output_type": "stream",
     "text": [
      "Overriding model.yaml nc=15 with nc=1\n",
      "\n",
      "                   from  n    params  module                                       arguments                     \n",
      "  0                  -1  1       464  ultralytics.nn.modules.conv.Conv             [3, 16, 3, 2]                 \n",
      "  1                  -1  1      4672  ultralytics.nn.modules.conv.Conv             [16, 32, 3, 2]                \n",
      "  2                  -1  1      7360  ultralytics.nn.modules.block.C2f             [32, 32, 1, True]             \n",
      "  3                  -1  1     18560  ultralytics.nn.modules.conv.Conv             [32, 64, 3, 2]                \n",
      "  4                  -1  2     49664  ultralytics.nn.modules.block.C2f             [64, 64, 2, True]             \n",
      "  5                  -1  1     73984  ultralytics.nn.modules.conv.Conv             [64, 128, 3, 2]               \n",
      "  6                  -1  2    197632  ultralytics.nn.modules.block.C2f             [128, 128, 2, True]           \n",
      "  7                  -1  1    295424  ultralytics.nn.modules.conv.Conv             [128, 256, 3, 2]              \n",
      "  8                  -1  1    460288  ultralytics.nn.modules.block.C2f             [256, 256, 1, True]           \n",
      "  9                  -1  1    164608  ultralytics.nn.modules.block.SPPF            [256, 256, 5]                 \n",
      " 10                  -1  1         0  torch.nn.modules.upsampling.Upsample         [None, 2, 'nearest']          \n",
      " 11             [-1, 6]  1         0  ultralytics.nn.modules.conv.Concat           [1]                           \n",
      " 12                  -1  1    148224  ultralytics.nn.modules.block.C2f             [384, 128, 1]                 \n",
      " 13                  -1  1         0  torch.nn.modules.upsampling.Upsample         [None, 2, 'nearest']          \n",
      " 14             [-1, 4]  1         0  ultralytics.nn.modules.conv.Concat           [1]                           \n",
      " 15                  -1  1     37248  ultralytics.nn.modules.block.C2f             [192, 64, 1]                  \n",
      " 16                  -1  1     36992  ultralytics.nn.modules.conv.Conv             [64, 64, 3, 2]                \n",
      " 17            [-1, 12]  1         0  ultralytics.nn.modules.conv.Concat           [1]                           \n",
      " 18                  -1  1    123648  ultralytics.nn.modules.block.C2f             [192, 128, 1]                 \n",
      " 19                  -1  1    147712  ultralytics.nn.modules.conv.Conv             [128, 128, 3, 2]              \n",
      " 20             [-1, 9]  1         0  ultralytics.nn.modules.conv.Concat           [1]                           \n",
      " 21                  -1  1    493056  ultralytics.nn.modules.block.C2f             [384, 256, 1]                 \n",
      " 22        [15, 18, 21]  1    823174  ultralytics.nn.modules.head.OBB              [1, 1, [64, 128, 256]]        \n",
      "YOLOv8n-obb summary: 144 layers, 3,082,710 parameters, 3,082,694 gradients, 8.4 GFLOPs\n",
      "\n",
      "Transferred 391/397 items from pretrained weights\n",
      "\u001b[34m\u001b[1mTensorBoard: \u001b[0mStart with 'tensorboard --logdir /kaggle/working/runs/yolov8-obb-train', view at http://localhost:6006/\n",
      "Freezing layer 'model.22.dfl.conv.weight'\n",
      "\u001b[34m\u001b[1mAMP: \u001b[0mrunning Automatic Mixed Precision (AMP) checks...\n",
      "Downloading https://github.com/ultralytics/assets/releases/download/v8.3.0/yolo11n.pt to 'yolo11n.pt'...\n"
     ]
    },
    {
     "name": "stderr",
     "output_type": "stream",
     "text": [
      "100%|██████████| 5.35M/5.35M [00:00<00:00, 77.6MB/s]\n"
     ]
    },
    {
     "name": "stdout",
     "output_type": "stream",
     "text": [
      "\u001b[34m\u001b[1mAMP: \u001b[0mchecks passed ✅\n"
     ]
    },
    {
     "name": "stderr",
     "output_type": "stream",
     "text": [
      "\u001b[34m\u001b[1mtrain: \u001b[0mScanning /kaggle/working/yolo_dataset/train/labels... 2967 images, 0 backgrounds, 1 corrupt: 100%|██████████| 2968/2968 [00:22<00:00, 131.47it/s]"
     ]
    },
    {
     "name": "stdout",
     "output_type": "stream",
     "text": [
      "\u001b[34m\u001b[1mtrain: \u001b[0mWARNING ⚠️ /kaggle/working/yolo_dataset/train/images/2284.png: ignoring corrupt image/label: cannot identify image file '/kaggle/working/yolo_dataset/train/images/2284.png'\n"
     ]
    },
    {
     "name": "stderr",
     "output_type": "stream",
     "text": [
      "\n"
     ]
    },
    {
     "name": "stdout",
     "output_type": "stream",
     "text": [
      "\u001b[34m\u001b[1mtrain: \u001b[0mNew cache created: /kaggle/working/yolo_dataset/train/labels.cache\n",
      "\u001b[34m\u001b[1malbumentations: \u001b[0mBlur(p=0.01, blur_limit=(3, 7)), MedianBlur(p=0.01, blur_limit=(3, 7)), ToGray(p=0.01, num_output_channels=3, method='weighted_average'), CLAHE(p=0.01, clip_limit=(1.0, 4.0), tile_grid_size=(8, 8))\n"
     ]
    },
    {
     "name": "stderr",
     "output_type": "stream",
     "text": [
      "/usr/local/lib/python3.10/dist-packages/albumentations/__init__.py:24: UserWarning: A new version of Albumentations is available: 2.0.5 (you have 1.4.20). Upgrade using: pip install -U albumentations. To disable automatic update checks, set the environment variable NO_ALBUMENTATIONS_UPDATE to 1.\n",
      "  check_for_updates()\n",
      "\u001b[34m\u001b[1mval: \u001b[0mScanning /kaggle/working/yolo_dataset/val/labels... 371 images, 0 backgrounds, 0 corrupt: 100%|██████████| 371/371 [00:02<00:00, 157.48it/s]"
     ]
    },
    {
     "name": "stdout",
     "output_type": "stream",
     "text": [
      "\u001b[34m\u001b[1mval: \u001b[0mNew cache created: /kaggle/working/yolo_dataset/val/labels.cache\n"
     ]
    },
    {
     "name": "stderr",
     "output_type": "stream",
     "text": [
      "\n"
     ]
    },
    {
     "name": "stdout",
     "output_type": "stream",
     "text": [
      "Plotting labels to /kaggle/working/runs/yolov8-obb-train/labels.jpg... \n",
      "\u001b[34m\u001b[1moptimizer:\u001b[0m 'optimizer=auto' found, ignoring 'lr0=0.01' and 'momentum=0.937' and determining best 'optimizer', 'lr0' and 'momentum' automatically... \n",
      "\u001b[34m\u001b[1moptimizer:\u001b[0m AdamW(lr=0.002, momentum=0.9) with parameter groups 63 weight(decay=0.0), 73 weight(decay=0.0005), 72 bias(decay=0.0)\n",
      "\u001b[34m\u001b[1mTensorBoard: \u001b[0mmodel graph visualization added ✅\n",
      "Image sizes 1024 train, 1024 val\n",
      "Using 4 dataloader workers\n",
      "Logging results to \u001b[1m/kaggle/working/runs/yolov8-obb-train\u001b[0m\n",
      "Starting training for 50 epochs...\n",
      "\n",
      "      Epoch    GPU_mem   box_loss   cls_loss   dfl_loss  Instances       Size\n"
     ]
    },
    {
     "name": "stderr",
     "output_type": "stream",
     "text": [
      "       1/50      3.12G      1.102      1.889      1.684         33       1024: 100%|██████████| 371/371 [01:36<00:00,  3.86it/s]\n",
      "                 Class     Images  Instances      Box(P          R      mAP50  mAP50-95): 100%|██████████| 47/47 [00:06<00:00,  7.03it/s]\n"
     ]
    },
    {
     "name": "stdout",
     "output_type": "stream",
     "text": [
      "                   all        371       1815      0.763      0.763       0.83      0.598\n",
      "\n",
      "      Epoch    GPU_mem   box_loss   cls_loss   dfl_loss  Instances       Size\n"
     ]
    },
    {
     "name": "stderr",
     "output_type": "stream",
     "text": [
      "       2/50      2.81G      1.146      1.158      1.729         19       1024: 100%|██████████| 371/371 [01:33<00:00,  3.98it/s]\n",
      "                 Class     Images  Instances      Box(P          R      mAP50  mAP50-95): 100%|██████████| 47/47 [00:06<00:00,  7.25it/s]"
     ]
    },
    {
     "name": "stdout",
     "output_type": "stream",
     "text": [
      "                   all        371       1815      0.792      0.737      0.826      0.578\n"
     ]
    },
    {
     "name": "stderr",
     "output_type": "stream",
     "text": [
      "\n"
     ]
    },
    {
     "name": "stdout",
     "output_type": "stream",
     "text": [
      "\n",
      "      Epoch    GPU_mem   box_loss   cls_loss   dfl_loss  Instances       Size\n"
     ]
    },
    {
     "name": "stderr",
     "output_type": "stream",
     "text": [
      "       3/50      2.66G      1.129      1.096       1.71         45       1024: 100%|██████████| 371/371 [01:33<00:00,  3.97it/s]\n",
      "                 Class     Images  Instances      Box(P          R      mAP50  mAP50-95): 100%|██████████| 47/47 [00:07<00:00,  6.66it/s]"
     ]
    },
    {
     "name": "stdout",
     "output_type": "stream",
     "text": [
      "                   all        371       1815      0.801        0.8      0.859       0.63\n"
     ]
    },
    {
     "name": "stderr",
     "output_type": "stream",
     "text": [
      "\n"
     ]
    },
    {
     "name": "stdout",
     "output_type": "stream",
     "text": [
      "\n",
      "      Epoch    GPU_mem   box_loss   cls_loss   dfl_loss  Instances       Size\n"
     ]
    },
    {
     "name": "stderr",
     "output_type": "stream",
     "text": [
      "       4/50      2.69G      1.128      1.061      1.709         37       1024: 100%|██████████| 371/371 [01:33<00:00,  3.99it/s]\n",
      "                 Class     Images  Instances      Box(P          R      mAP50  mAP50-95): 100%|██████████| 47/47 [00:06<00:00,  6.71it/s]"
     ]
    },
    {
     "name": "stdout",
     "output_type": "stream",
     "text": [
      "                   all        371       1815      0.786      0.727      0.814      0.581\n"
     ]
    },
    {
     "name": "stderr",
     "output_type": "stream",
     "text": [
      "\n"
     ]
    },
    {
     "name": "stdout",
     "output_type": "stream",
     "text": [
      "\n",
      "      Epoch    GPU_mem   box_loss   cls_loss   dfl_loss  Instances       Size\n"
     ]
    },
    {
     "name": "stderr",
     "output_type": "stream",
     "text": [
      "       5/50      2.68G      1.118      1.028      1.683         68       1024: 100%|██████████| 371/371 [01:33<00:00,  3.97it/s]\n",
      "                 Class     Images  Instances      Box(P          R      mAP50  mAP50-95): 100%|██████████| 47/47 [00:06<00:00,  7.29it/s]"
     ]
    },
    {
     "name": "stdout",
     "output_type": "stream",
     "text": [
      "                   all        371       1815      0.792      0.721      0.815       0.59\n"
     ]
    },
    {
     "name": "stderr",
     "output_type": "stream",
     "text": [
      "\n"
     ]
    },
    {
     "name": "stdout",
     "output_type": "stream",
     "text": [
      "\n",
      "      Epoch    GPU_mem   box_loss   cls_loss   dfl_loss  Instances       Size\n"
     ]
    },
    {
     "name": "stderr",
     "output_type": "stream",
     "text": [
      "       6/50      2.71G      1.097      1.011      1.674         43       1024: 100%|██████████| 371/371 [01:32<00:00,  4.00it/s]\n",
      "                 Class     Images  Instances      Box(P          R      mAP50  mAP50-95): 100%|██████████| 47/47 [00:06<00:00,  7.17it/s]"
     ]
    },
    {
     "name": "stdout",
     "output_type": "stream",
     "text": [
      "                   all        371       1815      0.853       0.78      0.874      0.666\n"
     ]
    },
    {
     "name": "stderr",
     "output_type": "stream",
     "text": [
      "\n"
     ]
    },
    {
     "name": "stdout",
     "output_type": "stream",
     "text": [
      "\n",
      "      Epoch    GPU_mem   box_loss   cls_loss   dfl_loss  Instances       Size\n"
     ]
    },
    {
     "name": "stderr",
     "output_type": "stream",
     "text": [
      "       7/50      2.65G      1.063     0.9598      1.623         38       1024: 100%|██████████| 371/371 [01:33<00:00,  3.96it/s]\n",
      "                 Class     Images  Instances      Box(P          R      mAP50  mAP50-95): 100%|██████████| 47/47 [00:06<00:00,  7.22it/s]"
     ]
    },
    {
     "name": "stdout",
     "output_type": "stream",
     "text": [
      "                   all        371       1815      0.814      0.804      0.866      0.643\n"
     ]
    },
    {
     "name": "stderr",
     "output_type": "stream",
     "text": [
      "\n"
     ]
    },
    {
     "name": "stdout",
     "output_type": "stream",
     "text": [
      "\n",
      "      Epoch    GPU_mem   box_loss   cls_loss   dfl_loss  Instances       Size\n"
     ]
    },
    {
     "name": "stderr",
     "output_type": "stream",
     "text": [
      "       8/50      2.79G       1.04     0.9309      1.625         34       1024: 100%|██████████| 371/371 [01:32<00:00,  4.00it/s]\n",
      "                 Class     Images  Instances      Box(P          R      mAP50  mAP50-95): 100%|██████████| 47/47 [00:06<00:00,  7.51it/s]"
     ]
    },
    {
     "name": "stdout",
     "output_type": "stream",
     "text": [
      "                   all        371       1815      0.812      0.763      0.852      0.633\n"
     ]
    },
    {
     "name": "stderr",
     "output_type": "stream",
     "text": [
      "\n"
     ]
    },
    {
     "name": "stdout",
     "output_type": "stream",
     "text": [
      "\n",
      "      Epoch    GPU_mem   box_loss   cls_loss   dfl_loss  Instances       Size\n"
     ]
    },
    {
     "name": "stderr",
     "output_type": "stream",
     "text": [
      "       9/50       2.7G      1.033     0.9263      1.624         21       1024: 100%|██████████| 371/371 [01:32<00:00,  4.01it/s]\n",
      "                 Class     Images  Instances      Box(P          R      mAP50  mAP50-95): 100%|██████████| 47/47 [00:06<00:00,  7.40it/s]"
     ]
    },
    {
     "name": "stdout",
     "output_type": "stream",
     "text": [
      "                   all        371       1815      0.829      0.795      0.865      0.639\n"
     ]
    },
    {
     "name": "stderr",
     "output_type": "stream",
     "text": [
      "\n"
     ]
    },
    {
     "name": "stdout",
     "output_type": "stream",
     "text": [
      "\n",
      "      Epoch    GPU_mem   box_loss   cls_loss   dfl_loss  Instances       Size\n"
     ]
    },
    {
     "name": "stderr",
     "output_type": "stream",
     "text": [
      "      10/50       2.8G      1.021     0.9183      1.623         32       1024: 100%|██████████| 371/371 [01:32<00:00,  4.02it/s]\n",
      "                 Class     Images  Instances      Box(P          R      mAP50  mAP50-95): 100%|██████████| 47/47 [00:06<00:00,  7.55it/s]"
     ]
    },
    {
     "name": "stdout",
     "output_type": "stream",
     "text": [
      "                   all        371       1815      0.808      0.779      0.859      0.657\n"
     ]
    },
    {
     "name": "stderr",
     "output_type": "stream",
     "text": [
      "\n"
     ]
    },
    {
     "name": "stdout",
     "output_type": "stream",
     "text": [
      "\n",
      "      Epoch    GPU_mem   box_loss   cls_loss   dfl_loss  Instances       Size\n"
     ]
    },
    {
     "name": "stderr",
     "output_type": "stream",
     "text": [
      "      11/50      2.67G      1.006     0.8869       1.57         32       1024: 100%|██████████| 371/371 [01:31<00:00,  4.07it/s]\n",
      "                 Class     Images  Instances      Box(P          R      mAP50  mAP50-95): 100%|██████████| 47/47 [00:06<00:00,  7.69it/s]\n"
     ]
    },
    {
     "name": "stdout",
     "output_type": "stream",
     "text": [
      "                   all        371       1815      0.837      0.794      0.883      0.674\n",
      "\n",
      "      Epoch    GPU_mem   box_loss   cls_loss   dfl_loss  Instances       Size\n"
     ]
    },
    {
     "name": "stderr",
     "output_type": "stream",
     "text": [
      "      12/50      2.74G     0.9853     0.8692      1.563         40       1024: 100%|██████████| 371/371 [01:30<00:00,  4.08it/s]\n",
      "                 Class     Images  Instances      Box(P          R      mAP50  mAP50-95): 100%|██████████| 47/47 [00:06<00:00,  7.41it/s]"
     ]
    },
    {
     "name": "stdout",
     "output_type": "stream",
     "text": [
      "                   all        371       1815       0.83      0.809      0.884       0.68\n"
     ]
    },
    {
     "name": "stderr",
     "output_type": "stream",
     "text": [
      "\n"
     ]
    },
    {
     "name": "stdout",
     "output_type": "stream",
     "text": [
      "\n",
      "      Epoch    GPU_mem   box_loss   cls_loss   dfl_loss  Instances       Size\n"
     ]
    },
    {
     "name": "stderr",
     "output_type": "stream",
     "text": [
      "      13/50      2.69G     0.9689     0.8626      1.551         51       1024: 100%|██████████| 371/371 [01:31<00:00,  4.08it/s]\n",
      "                 Class     Images  Instances      Box(P          R      mAP50  mAP50-95): 100%|██████████| 47/47 [00:06<00:00,  7.31it/s]"
     ]
    },
    {
     "name": "stdout",
     "output_type": "stream",
     "text": [
      "                   all        371       1815      0.797      0.824      0.883      0.675\n"
     ]
    },
    {
     "name": "stderr",
     "output_type": "stream",
     "text": [
      "\n"
     ]
    },
    {
     "name": "stdout",
     "output_type": "stream",
     "text": [
      "\n",
      "      Epoch    GPU_mem   box_loss   cls_loss   dfl_loss  Instances       Size\n"
     ]
    },
    {
     "name": "stderr",
     "output_type": "stream",
     "text": [
      "      14/50      2.81G     0.9671       0.84      1.554         18       1024: 100%|██████████| 371/371 [01:31<00:00,  4.06it/s]\n",
      "                 Class     Images  Instances      Box(P          R      mAP50  mAP50-95): 100%|██████████| 47/47 [00:06<00:00,  7.65it/s]\n"
     ]
    },
    {
     "name": "stdout",
     "output_type": "stream",
     "text": [
      "                   all        371       1815      0.829      0.797      0.883       0.68\n",
      "\n",
      "      Epoch    GPU_mem   box_loss   cls_loss   dfl_loss  Instances       Size\n"
     ]
    },
    {
     "name": "stderr",
     "output_type": "stream",
     "text": [
      "      15/50      2.66G     0.9624     0.8377      1.548         30       1024: 100%|██████████| 371/371 [01:31<00:00,  4.07it/s]\n",
      "                 Class     Images  Instances      Box(P          R      mAP50  mAP50-95): 100%|██████████| 47/47 [00:06<00:00,  7.15it/s]"
     ]
    },
    {
     "name": "stdout",
     "output_type": "stream",
     "text": [
      "                   all        371       1815      0.822      0.815      0.887      0.684\n"
     ]
    },
    {
     "name": "stderr",
     "output_type": "stream",
     "text": [
      "\n"
     ]
    },
    {
     "name": "stdout",
     "output_type": "stream",
     "text": [
      "\n",
      "      Epoch    GPU_mem   box_loss   cls_loss   dfl_loss  Instances       Size\n"
     ]
    },
    {
     "name": "stderr",
     "output_type": "stream",
     "text": [
      "      16/50      2.73G     0.9571       0.82      1.525         14       1024: 100%|██████████| 371/371 [01:31<00:00,  4.07it/s]\n",
      "                 Class     Images  Instances      Box(P          R      mAP50  mAP50-95): 100%|██████████| 47/47 [00:06<00:00,  6.83it/s]"
     ]
    },
    {
     "name": "stdout",
     "output_type": "stream",
     "text": [
      "                   all        371       1815       0.84       0.83      0.893      0.684\n"
     ]
    },
    {
     "name": "stderr",
     "output_type": "stream",
     "text": [
      "\n"
     ]
    },
    {
     "name": "stdout",
     "output_type": "stream",
     "text": [
      "\n",
      "      Epoch    GPU_mem   box_loss   cls_loss   dfl_loss  Instances       Size\n"
     ]
    },
    {
     "name": "stderr",
     "output_type": "stream",
     "text": [
      "      17/50       2.9G     0.9469     0.8113      1.521         47       1024: 100%|██████████| 371/371 [01:31<00:00,  4.04it/s]\n",
      "                 Class     Images  Instances      Box(P          R      mAP50  mAP50-95): 100%|██████████| 47/47 [00:06<00:00,  6.83it/s]"
     ]
    },
    {
     "name": "stdout",
     "output_type": "stream",
     "text": [
      "                   all        371       1815      0.822      0.828      0.892      0.685\n"
     ]
    },
    {
     "name": "stderr",
     "output_type": "stream",
     "text": [
      "\n"
     ]
    },
    {
     "name": "stdout",
     "output_type": "stream",
     "text": [
      "\n",
      "      Epoch    GPU_mem   box_loss   cls_loss   dfl_loss  Instances       Size\n"
     ]
    },
    {
     "name": "stderr",
     "output_type": "stream",
     "text": [
      "      18/50      2.88G     0.9288     0.7993       1.51         41       1024: 100%|██████████| 371/371 [01:32<00:00,  4.01it/s]\n",
      "                 Class     Images  Instances      Box(P          R      mAP50  mAP50-95): 100%|██████████| 47/47 [00:06<00:00,  7.40it/s]"
     ]
    },
    {
     "name": "stdout",
     "output_type": "stream",
     "text": [
      "                   all        371       1815      0.823      0.821      0.893      0.695\n"
     ]
    },
    {
     "name": "stderr",
     "output_type": "stream",
     "text": [
      "\n"
     ]
    },
    {
     "name": "stdout",
     "output_type": "stream",
     "text": [
      "\n",
      "      Epoch    GPU_mem   box_loss   cls_loss   dfl_loss  Instances       Size\n"
     ]
    },
    {
     "name": "stderr",
     "output_type": "stream",
     "text": [
      "      19/50      2.71G     0.9197     0.7942      1.509         23       1024: 100%|██████████| 371/371 [01:32<00:00,  4.01it/s]\n",
      "                 Class     Images  Instances      Box(P          R      mAP50  mAP50-95): 100%|██████████| 47/47 [00:06<00:00,  7.40it/s]\n"
     ]
    },
    {
     "name": "stdout",
     "output_type": "stream",
     "text": [
      "                   all        371       1815      0.866      0.806      0.903      0.705\n",
      "\n",
      "      Epoch    GPU_mem   box_loss   cls_loss   dfl_loss  Instances       Size\n"
     ]
    },
    {
     "name": "stderr",
     "output_type": "stream",
     "text": [
      "      20/50       2.7G     0.9205     0.7901      1.516         24       1024: 100%|██████████| 371/371 [01:32<00:00,  4.00it/s]\n",
      "                 Class     Images  Instances      Box(P          R      mAP50  mAP50-95): 100%|██████████| 47/47 [00:06<00:00,  7.06it/s]"
     ]
    },
    {
     "name": "stdout",
     "output_type": "stream",
     "text": [
      "                   all        371       1815      0.837      0.845      0.905      0.707\n"
     ]
    },
    {
     "name": "stderr",
     "output_type": "stream",
     "text": [
      "\n"
     ]
    },
    {
     "name": "stdout",
     "output_type": "stream",
     "text": [
      "\n",
      "      Epoch    GPU_mem   box_loss   cls_loss   dfl_loss  Instances       Size\n"
     ]
    },
    {
     "name": "stderr",
     "output_type": "stream",
     "text": [
      "      21/50      2.72G     0.9192     0.7823      1.506         30       1024: 100%|██████████| 371/371 [01:32<00:00,  4.03it/s]\n",
      "                 Class     Images  Instances      Box(P          R      mAP50  mAP50-95): 100%|██████████| 47/47 [00:06<00:00,  7.05it/s]"
     ]
    },
    {
     "name": "stdout",
     "output_type": "stream",
     "text": [
      "                   all        371       1815      0.843      0.834      0.898      0.696\n"
     ]
    },
    {
     "name": "stderr",
     "output_type": "stream",
     "text": [
      "\n"
     ]
    },
    {
     "name": "stdout",
     "output_type": "stream",
     "text": [
      "\n",
      "      Epoch    GPU_mem   box_loss   cls_loss   dfl_loss  Instances       Size\n"
     ]
    },
    {
     "name": "stderr",
     "output_type": "stream",
     "text": [
      "      22/50      2.72G     0.9046     0.7659      1.478         71       1024: 100%|██████████| 371/371 [01:32<00:00,  4.01it/s]\n",
      "                 Class     Images  Instances      Box(P          R      mAP50  mAP50-95): 100%|██████████| 47/47 [00:06<00:00,  7.34it/s]"
     ]
    },
    {
     "name": "stdout",
     "output_type": "stream",
     "text": [
      "                   all        371       1815      0.844      0.812      0.899      0.705\n"
     ]
    },
    {
     "name": "stderr",
     "output_type": "stream",
     "text": [
      "\n"
     ]
    },
    {
     "name": "stdout",
     "output_type": "stream",
     "text": [
      "\n",
      "      Epoch    GPU_mem   box_loss   cls_loss   dfl_loss  Instances       Size\n"
     ]
    },
    {
     "name": "stderr",
     "output_type": "stream",
     "text": [
      "      23/50      2.67G     0.8987     0.7562      1.466         54       1024: 100%|██████████| 371/371 [01:32<00:00,  4.01it/s]\n",
      "                 Class     Images  Instances      Box(P          R      mAP50  mAP50-95): 100%|██████████| 47/47 [00:06<00:00,  7.59it/s]"
     ]
    },
    {
     "name": "stdout",
     "output_type": "stream",
     "text": [
      "                   all        371       1815       0.87       0.83      0.901      0.708\n"
     ]
    },
    {
     "name": "stderr",
     "output_type": "stream",
     "text": [
      "\n"
     ]
    },
    {
     "name": "stdout",
     "output_type": "stream",
     "text": [
      "\n",
      "      Epoch    GPU_mem   box_loss   cls_loss   dfl_loss  Instances       Size\n"
     ]
    },
    {
     "name": "stderr",
     "output_type": "stream",
     "text": [
      "      24/50      2.66G     0.8913     0.7431      1.481         42       1024: 100%|██████████| 371/371 [01:32<00:00,  4.03it/s]\n",
      "                 Class     Images  Instances      Box(P          R      mAP50  mAP50-95): 100%|██████████| 47/47 [00:06<00:00,  7.44it/s]"
     ]
    },
    {
     "name": "stdout",
     "output_type": "stream",
     "text": [
      "                   all        371       1815      0.852      0.819      0.892      0.702\n"
     ]
    },
    {
     "name": "stderr",
     "output_type": "stream",
     "text": [
      "\n"
     ]
    },
    {
     "name": "stdout",
     "output_type": "stream",
     "text": [
      "\n",
      "      Epoch    GPU_mem   box_loss   cls_loss   dfl_loss  Instances       Size\n"
     ]
    },
    {
     "name": "stderr",
     "output_type": "stream",
     "text": [
      "      25/50      2.73G     0.8869     0.7423      1.471         45       1024: 100%|██████████| 371/371 [01:32<00:00,  4.01it/s]\n",
      "                 Class     Images  Instances      Box(P          R      mAP50  mAP50-95): 100%|██████████| 47/47 [00:06<00:00,  7.37it/s]"
     ]
    },
    {
     "name": "stdout",
     "output_type": "stream",
     "text": [
      "                   all        371       1815      0.861      0.838      0.907      0.721\n"
     ]
    },
    {
     "name": "stderr",
     "output_type": "stream",
     "text": [
      "\n"
     ]
    },
    {
     "name": "stdout",
     "output_type": "stream",
     "text": [
      "\n",
      "      Epoch    GPU_mem   box_loss   cls_loss   dfl_loss  Instances       Size\n"
     ]
    },
    {
     "name": "stderr",
     "output_type": "stream",
     "text": [
      "      26/50      2.85G     0.8766     0.7289       1.45         40       1024: 100%|██████████| 371/371 [01:32<00:00,  4.03it/s]\n",
      "                 Class     Images  Instances      Box(P          R      mAP50  mAP50-95): 100%|██████████| 47/47 [00:06<00:00,  7.46it/s]"
     ]
    },
    {
     "name": "stdout",
     "output_type": "stream",
     "text": [
      "                   all        371       1815      0.823      0.842      0.893      0.706\n"
     ]
    },
    {
     "name": "stderr",
     "output_type": "stream",
     "text": [
      "\n"
     ]
    },
    {
     "name": "stdout",
     "output_type": "stream",
     "text": [
      "\n",
      "      Epoch    GPU_mem   box_loss   cls_loss   dfl_loss  Instances       Size\n"
     ]
    },
    {
     "name": "stderr",
     "output_type": "stream",
     "text": [
      "      27/50      2.64G      0.881     0.7341      1.459         21       1024: 100%|██████████| 371/371 [01:31<00:00,  4.05it/s]\n",
      "                 Class     Images  Instances      Box(P          R      mAP50  mAP50-95): 100%|██████████| 47/47 [00:06<00:00,  6.92it/s]"
     ]
    },
    {
     "name": "stdout",
     "output_type": "stream",
     "text": [
      "                   all        371       1815      0.855      0.835      0.901      0.709\n"
     ]
    },
    {
     "name": "stderr",
     "output_type": "stream",
     "text": [
      "\n"
     ]
    },
    {
     "name": "stdout",
     "output_type": "stream",
     "text": [
      "\n",
      "      Epoch    GPU_mem   box_loss   cls_loss   dfl_loss  Instances       Size\n"
     ]
    },
    {
     "name": "stderr",
     "output_type": "stream",
     "text": [
      "      28/50      2.81G     0.8856      0.736      1.462         35       1024: 100%|██████████| 371/371 [01:31<00:00,  4.04it/s]\n",
      "                 Class     Images  Instances      Box(P          R      mAP50  mAP50-95): 100%|██████████| 47/47 [00:06<00:00,  6.88it/s]"
     ]
    },
    {
     "name": "stdout",
     "output_type": "stream",
     "text": [
      "                   all        371       1815      0.841      0.834      0.903      0.714\n"
     ]
    },
    {
     "name": "stderr",
     "output_type": "stream",
     "text": [
      "\n"
     ]
    },
    {
     "name": "stdout",
     "output_type": "stream",
     "text": [
      "\n",
      "      Epoch    GPU_mem   box_loss   cls_loss   dfl_loss  Instances       Size\n"
     ]
    },
    {
     "name": "stderr",
     "output_type": "stream",
     "text": [
      "      29/50      2.75G     0.8611     0.7099      1.451         32       1024: 100%|██████████| 371/371 [01:31<00:00,  4.05it/s]\n",
      "                 Class     Images  Instances      Box(P          R      mAP50  mAP50-95): 100%|██████████| 47/47 [00:06<00:00,  7.05it/s]\n"
     ]
    },
    {
     "name": "stdout",
     "output_type": "stream",
     "text": [
      "                   all        371       1815       0.85      0.797      0.891      0.702\n",
      "\n",
      "      Epoch    GPU_mem   box_loss   cls_loss   dfl_loss  Instances       Size\n"
     ]
    },
    {
     "name": "stderr",
     "output_type": "stream",
     "text": [
      "      30/50      2.72G     0.8539      0.711      1.443         20       1024: 100%|██████████| 371/371 [01:32<00:00,  4.01it/s]\n",
      "                 Class     Images  Instances      Box(P          R      mAP50  mAP50-95): 100%|██████████| 47/47 [00:06<00:00,  7.55it/s]\n"
     ]
    },
    {
     "name": "stdout",
     "output_type": "stream",
     "text": [
      "                   all        371       1815      0.852      0.853      0.913      0.724\n",
      "\n",
      "      Epoch    GPU_mem   box_loss   cls_loss   dfl_loss  Instances       Size\n"
     ]
    },
    {
     "name": "stderr",
     "output_type": "stream",
     "text": [
      "      31/50      2.89G     0.8527      0.702      1.451         73       1024: 100%|██████████| 371/371 [01:32<00:00,  4.02it/s]\n",
      "                 Class     Images  Instances      Box(P          R      mAP50  mAP50-95): 100%|██████████| 47/47 [00:06<00:00,  7.56it/s]"
     ]
    },
    {
     "name": "stdout",
     "output_type": "stream",
     "text": [
      "                   all        371       1815      0.847      0.837      0.909       0.72\n"
     ]
    },
    {
     "name": "stderr",
     "output_type": "stream",
     "text": [
      "\n"
     ]
    },
    {
     "name": "stdout",
     "output_type": "stream",
     "text": [
      "\n",
      "      Epoch    GPU_mem   box_loss   cls_loss   dfl_loss  Instances       Size\n"
     ]
    },
    {
     "name": "stderr",
     "output_type": "stream",
     "text": [
      "      32/50      2.88G     0.8458      0.701      1.411         35       1024: 100%|██████████| 371/371 [01:32<00:00,  4.00it/s]\n",
      "                 Class     Images  Instances      Box(P          R      mAP50  mAP50-95): 100%|██████████| 47/47 [00:06<00:00,  7.45it/s]"
     ]
    },
    {
     "name": "stdout",
     "output_type": "stream",
     "text": [
      "                   all        371       1815      0.862      0.851      0.919      0.737\n"
     ]
    },
    {
     "name": "stderr",
     "output_type": "stream",
     "text": [
      "\n"
     ]
    },
    {
     "name": "stdout",
     "output_type": "stream",
     "text": [
      "\n",
      "      Epoch    GPU_mem   box_loss   cls_loss   dfl_loss  Instances       Size\n"
     ]
    },
    {
     "name": "stderr",
     "output_type": "stream",
     "text": [
      "      33/50       2.7G     0.8431     0.6927      1.436         39       1024: 100%|██████████| 371/371 [01:32<00:00,  4.00it/s]\n",
      "                 Class     Images  Instances      Box(P          R      mAP50  mAP50-95): 100%|██████████| 47/47 [00:06<00:00,  7.34it/s]"
     ]
    },
    {
     "name": "stdout",
     "output_type": "stream",
     "text": [
      "                   all        371       1815       0.85      0.821      0.908      0.728\n"
     ]
    },
    {
     "name": "stderr",
     "output_type": "stream",
     "text": [
      "\n"
     ]
    },
    {
     "name": "stdout",
     "output_type": "stream",
     "text": [
      "\n",
      "      Epoch    GPU_mem   box_loss   cls_loss   dfl_loss  Instances       Size\n"
     ]
    },
    {
     "name": "stderr",
     "output_type": "stream",
     "text": [
      "      34/50      2.68G     0.8347     0.6753       1.43         19       1024: 100%|██████████| 371/371 [01:32<00:00,  4.01it/s]\n",
      "                 Class     Images  Instances      Box(P          R      mAP50  mAP50-95): 100%|██████████| 47/47 [00:06<00:00,  7.51it/s]"
     ]
    },
    {
     "name": "stdout",
     "output_type": "stream",
     "text": [
      "                   all        371       1815      0.873      0.833      0.908      0.726\n"
     ]
    },
    {
     "name": "stderr",
     "output_type": "stream",
     "text": [
      "\n"
     ]
    },
    {
     "name": "stdout",
     "output_type": "stream",
     "text": [
      "\n",
      "      Epoch    GPU_mem   box_loss   cls_loss   dfl_loss  Instances       Size\n"
     ]
    },
    {
     "name": "stderr",
     "output_type": "stream",
     "text": [
      "      35/50      2.82G     0.8316     0.6882      1.417         48       1024: 100%|██████████| 371/371 [01:32<00:00,  4.02it/s]\n",
      "                 Class     Images  Instances      Box(P          R      mAP50  mAP50-95): 100%|██████████| 47/47 [00:06<00:00,  7.46it/s]"
     ]
    },
    {
     "name": "stdout",
     "output_type": "stream",
     "text": [
      "                   all        371       1815      0.856      0.831      0.912      0.729\n"
     ]
    },
    {
     "name": "stderr",
     "output_type": "stream",
     "text": [
      "\n"
     ]
    },
    {
     "name": "stdout",
     "output_type": "stream",
     "text": [
      "\n",
      "      Epoch    GPU_mem   box_loss   cls_loss   dfl_loss  Instances       Size\n"
     ]
    },
    {
     "name": "stderr",
     "output_type": "stream",
     "text": [
      "      36/50      2.65G     0.8143     0.6657      1.418         51       1024: 100%|██████████| 371/371 [01:32<00:00,  4.01it/s]\n",
      "                 Class     Images  Instances      Box(P          R      mAP50  mAP50-95): 100%|██████████| 47/47 [00:06<00:00,  7.36it/s]"
     ]
    },
    {
     "name": "stdout",
     "output_type": "stream",
     "text": [
      "                   all        371       1815      0.878       0.82      0.917      0.739\n"
     ]
    },
    {
     "name": "stderr",
     "output_type": "stream",
     "text": [
      "\n"
     ]
    },
    {
     "name": "stdout",
     "output_type": "stream",
     "text": [
      "\n",
      "      Epoch    GPU_mem   box_loss   cls_loss   dfl_loss  Instances       Size\n"
     ]
    },
    {
     "name": "stderr",
     "output_type": "stream",
     "text": [
      "      37/50       2.8G     0.8171     0.6638      1.402         39       1024: 100%|██████████| 371/371 [01:32<00:00,  4.03it/s]\n",
      "                 Class     Images  Instances      Box(P          R      mAP50  mAP50-95): 100%|██████████| 47/47 [00:06<00:00,  7.20it/s]"
     ]
    },
    {
     "name": "stdout",
     "output_type": "stream",
     "text": [
      "                   all        371       1815      0.845      0.857      0.916      0.739\n"
     ]
    },
    {
     "name": "stderr",
     "output_type": "stream",
     "text": [
      "\n"
     ]
    },
    {
     "name": "stdout",
     "output_type": "stream",
     "text": [
      "\n",
      "      Epoch    GPU_mem   box_loss   cls_loss   dfl_loss  Instances       Size\n"
     ]
    },
    {
     "name": "stderr",
     "output_type": "stream",
     "text": [
      "      38/50      2.88G     0.8133     0.6544      1.402         23       1024: 100%|██████████| 371/371 [01:33<00:00,  3.97it/s]\n",
      "                 Class     Images  Instances      Box(P          R      mAP50  mAP50-95): 100%|██████████| 47/47 [00:07<00:00,  6.23it/s]\n"
     ]
    },
    {
     "name": "stdout",
     "output_type": "stream",
     "text": [
      "                   all        371       1815      0.858      0.848      0.918      0.734\n",
      "\n",
      "      Epoch    GPU_mem   box_loss   cls_loss   dfl_loss  Instances       Size\n"
     ]
    },
    {
     "name": "stderr",
     "output_type": "stream",
     "text": [
      "      39/50      2.75G     0.7985      0.651      1.379         21       1024: 100%|██████████| 371/371 [01:35<00:00,  3.90it/s]\n",
      "                 Class     Images  Instances      Box(P          R      mAP50  mAP50-95): 100%|██████████| 47/47 [00:07<00:00,  6.27it/s]"
     ]
    },
    {
     "name": "stdout",
     "output_type": "stream",
     "text": [
      "                   all        371       1815      0.864      0.833      0.911      0.737\n"
     ]
    },
    {
     "name": "stderr",
     "output_type": "stream",
     "text": [
      "\n"
     ]
    },
    {
     "name": "stdout",
     "output_type": "stream",
     "text": [
      "\n",
      "      Epoch    GPU_mem   box_loss   cls_loss   dfl_loss  Instances       Size\n"
     ]
    },
    {
     "name": "stderr",
     "output_type": "stream",
     "text": [
      "      40/50      2.84G     0.7913     0.6379      1.395         57       1024: 100%|██████████| 371/371 [01:33<00:00,  3.96it/s]\n",
      "                 Class     Images  Instances      Box(P          R      mAP50  mAP50-95): 100%|██████████| 47/47 [00:07<00:00,  6.60it/s]"
     ]
    },
    {
     "name": "stdout",
     "output_type": "stream",
     "text": [
      "                   all        371       1815       0.89      0.826      0.919      0.745\n"
     ]
    },
    {
     "name": "stderr",
     "output_type": "stream",
     "text": [
      "\n"
     ]
    },
    {
     "name": "stdout",
     "output_type": "stream",
     "text": [
      "Closing dataloader mosaic\n",
      "\u001b[34m\u001b[1malbumentations: \u001b[0mBlur(p=0.01, blur_limit=(3, 7)), MedianBlur(p=0.01, blur_limit=(3, 7)), ToGray(p=0.01, num_output_channels=3, method='weighted_average'), CLAHE(p=0.01, clip_limit=(1.0, 4.0), tile_grid_size=(8, 8))\n",
      "\n",
      "      Epoch    GPU_mem   box_loss   cls_loss   dfl_loss  Instances       Size\n"
     ]
    },
    {
     "name": "stderr",
     "output_type": "stream",
     "text": [
      "      41/50      2.99G     0.7397     0.5904      1.373         24       1024: 100%|██████████| 371/371 [01:31<00:00,  4.07it/s]\n",
      "                 Class     Images  Instances      Box(P          R      mAP50  mAP50-95): 100%|██████████| 47/47 [00:06<00:00,  6.92it/s]"
     ]
    },
    {
     "name": "stdout",
     "output_type": "stream",
     "text": [
      "                   all        371       1815      0.862      0.836      0.911      0.741\n"
     ]
    },
    {
     "name": "stderr",
     "output_type": "stream",
     "text": [
      "\n"
     ]
    },
    {
     "name": "stdout",
     "output_type": "stream",
     "text": [
      "\n",
      "      Epoch    GPU_mem   box_loss   cls_loss   dfl_loss  Instances       Size\n"
     ]
    },
    {
     "name": "stderr",
     "output_type": "stream",
     "text": [
      "      42/50      2.73G     0.7297     0.5771      1.343         15       1024: 100%|██████████| 371/371 [01:29<00:00,  4.15it/s]\n",
      "                 Class     Images  Instances      Box(P          R      mAP50  mAP50-95): 100%|██████████| 47/47 [00:06<00:00,  7.47it/s]"
     ]
    },
    {
     "name": "stdout",
     "output_type": "stream",
     "text": [
      "                   all        371       1815      0.881      0.852      0.926      0.751\n"
     ]
    },
    {
     "name": "stderr",
     "output_type": "stream",
     "text": [
      "\n"
     ]
    },
    {
     "name": "stdout",
     "output_type": "stream",
     "text": [
      "\n",
      "      Epoch    GPU_mem   box_loss   cls_loss   dfl_loss  Instances       Size\n"
     ]
    },
    {
     "name": "stderr",
     "output_type": "stream",
     "text": [
      "      43/50      2.71G     0.7226     0.5749      1.346         61       1024: 100%|██████████| 371/371 [01:29<00:00,  4.13it/s]\n",
      "                 Class     Images  Instances      Box(P          R      mAP50  mAP50-95): 100%|██████████| 47/47 [00:06<00:00,  7.60it/s]"
     ]
    },
    {
     "name": "stdout",
     "output_type": "stream",
     "text": [
      "                   all        371       1815      0.866      0.853      0.923      0.749\n"
     ]
    },
    {
     "name": "stderr",
     "output_type": "stream",
     "text": [
      "\n"
     ]
    },
    {
     "name": "stdout",
     "output_type": "stream",
     "text": [
      "\n",
      "      Epoch    GPU_mem   box_loss   cls_loss   dfl_loss  Instances       Size\n"
     ]
    },
    {
     "name": "stderr",
     "output_type": "stream",
     "text": [
      "      44/50      2.71G     0.7219     0.5623      1.334         19       1024: 100%|██████████| 371/371 [01:29<00:00,  4.16it/s]\n",
      "                 Class     Images  Instances      Box(P          R      mAP50  mAP50-95): 100%|██████████| 47/47 [00:06<00:00,  7.61it/s]"
     ]
    },
    {
     "name": "stdout",
     "output_type": "stream",
     "text": [
      "                   all        371       1815      0.888      0.847      0.921      0.751\n"
     ]
    },
    {
     "name": "stderr",
     "output_type": "stream",
     "text": [
      "\n"
     ]
    },
    {
     "name": "stdout",
     "output_type": "stream",
     "text": [
      "\n",
      "      Epoch    GPU_mem   box_loss   cls_loss   dfl_loss  Instances       Size\n"
     ]
    },
    {
     "name": "stderr",
     "output_type": "stream",
     "text": [
      "      45/50      2.66G     0.7125     0.5592      1.331         19       1024: 100%|██████████| 371/371 [01:29<00:00,  4.14it/s]\n",
      "                 Class     Images  Instances      Box(P          R      mAP50  mAP50-95): 100%|██████████| 47/47 [00:06<00:00,  7.48it/s]"
     ]
    },
    {
     "name": "stdout",
     "output_type": "stream",
     "text": [
      "                   all        371       1815      0.866      0.858      0.921      0.752\n"
     ]
    },
    {
     "name": "stderr",
     "output_type": "stream",
     "text": [
      "\n"
     ]
    },
    {
     "name": "stdout",
     "output_type": "stream",
     "text": [
      "\n",
      "      Epoch    GPU_mem   box_loss   cls_loss   dfl_loss  Instances       Size\n"
     ]
    },
    {
     "name": "stderr",
     "output_type": "stream",
     "text": [
      "      46/50      2.82G     0.7024     0.5533      1.324         42       1024: 100%|██████████| 371/371 [01:28<00:00,  4.17it/s]\n",
      "                 Class     Images  Instances      Box(P          R      mAP50  mAP50-95): 100%|██████████| 47/47 [00:07<00:00,  6.58it/s]"
     ]
    },
    {
     "name": "stdout",
     "output_type": "stream",
     "text": [
      "                   all        371       1815      0.877      0.853      0.926      0.757\n"
     ]
    },
    {
     "name": "stderr",
     "output_type": "stream",
     "text": [
      "\n"
     ]
    },
    {
     "name": "stdout",
     "output_type": "stream",
     "text": [
      "\n",
      "      Epoch    GPU_mem   box_loss   cls_loss   dfl_loss  Instances       Size\n"
     ]
    },
    {
     "name": "stderr",
     "output_type": "stream",
     "text": [
      "      47/50      2.78G     0.7022     0.5439      1.328          9       1024: 100%|██████████| 371/371 [01:29<00:00,  4.16it/s]\n",
      "                 Class     Images  Instances      Box(P          R      mAP50  mAP50-95): 100%|██████████| 47/47 [00:06<00:00,  7.53it/s]"
     ]
    },
    {
     "name": "stdout",
     "output_type": "stream",
     "text": [
      "                   all        371       1815       0.88      0.841      0.921      0.752\n"
     ]
    },
    {
     "name": "stderr",
     "output_type": "stream",
     "text": [
      "\n"
     ]
    },
    {
     "name": "stdout",
     "output_type": "stream",
     "text": [
      "\n",
      "      Epoch    GPU_mem   box_loss   cls_loss   dfl_loss  Instances       Size\n"
     ]
    },
    {
     "name": "stderr",
     "output_type": "stream",
     "text": [
      "      48/50      2.78G     0.6929     0.5364      1.315         15       1024: 100%|██████████| 371/371 [01:30<00:00,  4.11it/s]\n",
      "                 Class     Images  Instances      Box(P          R      mAP50  mAP50-95): 100%|██████████| 47/47 [00:06<00:00,  7.35it/s]"
     ]
    },
    {
     "name": "stdout",
     "output_type": "stream",
     "text": [
      "                   all        371       1815      0.869      0.852      0.921      0.757\n"
     ]
    },
    {
     "name": "stderr",
     "output_type": "stream",
     "text": [
      "\n"
     ]
    },
    {
     "name": "stdout",
     "output_type": "stream",
     "text": [
      "\n",
      "      Epoch    GPU_mem   box_loss   cls_loss   dfl_loss  Instances       Size\n"
     ]
    },
    {
     "name": "stderr",
     "output_type": "stream",
     "text": [
      "      49/50      2.78G     0.6979     0.5409      1.326         22       1024: 100%|██████████| 371/371 [01:29<00:00,  4.14it/s]\n",
      "                 Class     Images  Instances      Box(P          R      mAP50  mAP50-95): 100%|██████████| 47/47 [00:06<00:00,  7.48it/s]"
     ]
    },
    {
     "name": "stdout",
     "output_type": "stream",
     "text": [
      "                   all        371       1815      0.882      0.851      0.926      0.762\n"
     ]
    },
    {
     "name": "stderr",
     "output_type": "stream",
     "text": [
      "\n"
     ]
    },
    {
     "name": "stdout",
     "output_type": "stream",
     "text": [
      "\n",
      "      Epoch    GPU_mem   box_loss   cls_loss   dfl_loss  Instances       Size\n"
     ]
    },
    {
     "name": "stderr",
     "output_type": "stream",
     "text": [
      "      50/50       2.7G     0.6822     0.5274      1.308         21       1024: 100%|██████████| 371/371 [01:28<00:00,  4.17it/s]\n",
      "                 Class     Images  Instances      Box(P          R      mAP50  mAP50-95): 100%|██████████| 47/47 [00:07<00:00,  6.65it/s]"
     ]
    },
    {
     "name": "stdout",
     "output_type": "stream",
     "text": [
      "                   all        371       1815      0.876      0.855      0.926      0.762\n"
     ]
    },
    {
     "name": "stderr",
     "output_type": "stream",
     "text": [
      "\n"
     ]
    },
    {
     "name": "stdout",
     "output_type": "stream",
     "text": [
      "\n",
      "50 epochs completed in 1.382 hours.\n",
      "Optimizer stripped from /kaggle/working/runs/yolov8-obb-train/weights/last.pt, 6.6MB\n",
      "Optimizer stripped from /kaggle/working/runs/yolov8-obb-train/weights/best.pt, 6.6MB\n",
      "\n",
      "Validating /kaggle/working/runs/yolov8-obb-train/weights/best.pt...\n",
      "Ultralytics 8.3.82 🚀 Python-3.10.12 torch-2.5.1+cu121 CUDA:0 (Tesla P100-PCIE-16GB, 16269MiB)\n",
      "YOLOv8n-obb summary (fused): 81 layers, 3,077,414 parameters, 0 gradients, 8.3 GFLOPs\n"
     ]
    },
    {
     "name": "stderr",
     "output_type": "stream",
     "text": [
      "                 Class     Images  Instances      Box(P          R      mAP50  mAP50-95): 100%|██████████| 47/47 [00:07<00:00,  6.21it/s]\n"
     ]
    },
    {
     "name": "stdout",
     "output_type": "stream",
     "text": [
      "                   all        371       1815       0.87      0.861      0.926      0.762\n"
     ]
    },
    {
     "name": "stderr",
     "output_type": "stream",
     "text": [
      "/usr/local/lib/python3.10/dist-packages/matplotlib/colors.py:721: RuntimeWarning: invalid value encountered in less\n",
      "  xa[xa < 0] = -1\n",
      "/usr/local/lib/python3.10/dist-packages/matplotlib/colors.py:721: RuntimeWarning: invalid value encountered in less\n",
      "  xa[xa < 0] = -1\n"
     ]
    },
    {
     "name": "stdout",
     "output_type": "stream",
     "text": [
      "Speed: 0.6ms preprocess, 5.8ms inference, 0.0ms loss, 4.3ms postprocess per image\n",
      "Results saved to \u001b[1m/kaggle/working/runs/yolov8-obb-train\u001b[0m\n",
      "Training completed.\n"
     ]
    }
   ],
   "source": [
    "from ultralytics import YOLO\n",
    "import os\n",
    "\n",
    "# Clear cache\n",
    "for split in [\"train\", \"val\", \"test\"]:\n",
    "    cache_file = os.path.join(working_dir, f\"{split}/labels.cache\")\n",
    "    if os.path.exists(cache_file):\n",
    "        os.remove(cache_file)\n",
    "        print(f\"Cleared {split} label cache.\")\n",
    "\n",
    "# Load and train\n",
    "model = YOLO(\"yolov8n-obb.pt\")  # Pretrained OBB model\n",
    "\n",
    "# Train with all logging integrations disabled\n",
    "model.train(\n",
    "    data=yaml_path,\n",
    "    task=\"obb\",\n",
    "    epochs=50,\n",
    "    imgsz=1024,\n",
    "    batch=8,\n",
    "    device=0,\n",
    "    verbose=True,\n",
    "    project=\"/kaggle/working/runs\",\n",
    "    name=\"yolov8-obb-train\",\n",
    "    patience=10,\n",
    "    save_period=5,\n",
    "    workers=4,\n",
    "    cache=False,\n",
    "    seed=42,\n",
    "             # Disable W&B (remove if you want to use it)\n",
    ")\n",
    "\n",
    "print(\"Training completed.\")"
   ]
  },
  {
   "cell_type": "code",
   "execution_count": 8,
   "id": "def3defa",
   "metadata": {
    "execution": {
     "iopub.execute_input": "2025-03-04T12:36:39.152238Z",
     "iopub.status.busy": "2025-03-04T12:36:39.151714Z",
     "iopub.status.idle": "2025-03-04T12:36:51.095861Z",
     "shell.execute_reply": "2025-03-04T12:36:51.095001Z"
    },
    "papermill": {
     "duration": 14.020386,
     "end_time": "2025-03-04T12:36:51.097292",
     "exception": false,
     "start_time": "2025-03-04T12:36:37.076906",
     "status": "completed"
    },
    "tags": []
   },
   "outputs": [
    {
     "name": "stdout",
     "output_type": "stream",
     "text": [
      "Ultralytics 8.3.82 🚀 Python-3.10.12 torch-2.5.1+cu121 CUDA:0 (Tesla P100-PCIE-16GB, 16269MiB)\n",
      "YOLOv8n-obb summary (fused): 81 layers, 3,077,414 parameters, 0 gradients, 8.3 GFLOPs\n"
     ]
    },
    {
     "name": "stderr",
     "output_type": "stream",
     "text": [
      "\u001b[34m\u001b[1mval: \u001b[0mScanning /kaggle/working/yolo_dataset/val/labels.cache... 371 images, 0 backgrounds, 0 corrupt: 100%|██████████| 371/371 [00:00<?, ?it/s]\n",
      "                 Class     Images  Instances      Box(P          R      mAP50  mAP50-95): 100%|██████████| 47/47 [00:08<00:00,  5.31it/s]\n"
     ]
    },
    {
     "name": "stdout",
     "output_type": "stream",
     "text": [
      "                   all        371       1815       0.87      0.861      0.926      0.763\n"
     ]
    },
    {
     "name": "stderr",
     "output_type": "stream",
     "text": [
      "/usr/local/lib/python3.10/dist-packages/matplotlib/colors.py:721: RuntimeWarning: invalid value encountered in less\n",
      "  xa[xa < 0] = -1\n",
      "/usr/local/lib/python3.10/dist-packages/matplotlib/colors.py:721: RuntimeWarning: invalid value encountered in less\n",
      "  xa[xa < 0] = -1\n"
     ]
    },
    {
     "name": "stdout",
     "output_type": "stream",
     "text": [
      "Speed: 2.5ms preprocess, 6.0ms inference, 0.0ms loss, 3.4ms postprocess per image\n",
      "Results saved to \u001b[1m/kaggle/working/runs/yolov8-obb-train2\u001b[0m\n",
      "Validation mAP@0.5: 0.9258\n",
      "Validation mAP@0.5:0.95: 0.7631\n",
      "Validation metrics: ultralytics.utils.metrics.OBBMetrics object with attributes:\n",
      "\n",
      "ap_class_index: array([0])\n",
      "box: ultralytics.utils.metrics.Metric object\n",
      "confusion_matrix: <ultralytics.utils.metrics.ConfusionMatrix object at 0x79f19bada5c0>\n",
      "curves: []\n",
      "curves_results: []\n",
      "fitness: 0.7793887641258656\n",
      "keys: ['metrics/precision(B)', 'metrics/recall(B)', 'metrics/mAP50(B)', 'metrics/mAP50-95(B)']\n",
      "maps: array([    0.76313])\n",
      "names: {0: 'ship'}\n",
      "plot: True\n",
      "results_dict: {'metrics/precision(B)': 0.8697928569569083, 'metrics/recall(B)': 0.8612322280730677, 'metrics/mAP50(B)': 0.9257593661760106, 'metrics/mAP50-95(B)': 0.7631253638980716, 'fitness': 0.7793887641258656}\n",
      "save_dir: PosixPath('/kaggle/working/runs/yolov8-obb-train2')\n",
      "speed: {'preprocess': 2.493921121297391, 'inference': 6.01499431806558, 'loss': 0.0021518571467621745, 'postprocess': 3.3980575336987737}\n"
     ]
    }
   ],
   "source": [
    "metrics = model.val(task=\"obb\", split=\"val\")\n",
    "print(f\"Validation mAP@0.5: {metrics.box.map50:.4f}\")\n",
    "print(f\"Validation mAP@0.5:0.95: {metrics.box.map:.4f}\")\n",
    "print(\"Validation metrics:\", metrics)"
   ]
  },
  {
   "cell_type": "code",
   "execution_count": 9,
   "id": "fa57f863",
   "metadata": {
    "execution": {
     "iopub.execute_input": "2025-03-04T12:36:55.130153Z",
     "iopub.status.busy": "2025-03-04T12:36:55.129793Z",
     "iopub.status.idle": "2025-03-04T12:37:09.613991Z",
     "shell.execute_reply": "2025-03-04T12:37:09.613078Z"
    },
    "papermill": {
     "duration": 16.482058,
     "end_time": "2025-03-04T12:37:09.615523",
     "exception": false,
     "start_time": "2025-03-04T12:36:53.133465",
     "status": "completed"
    },
    "tags": []
   },
   "outputs": [
    {
     "name": "stdout",
     "output_type": "stream",
     "text": [
      "Ultralytics 8.3.82 🚀 Python-3.10.12 torch-2.5.1+cu121 CUDA:0 (Tesla P100-PCIE-16GB, 16269MiB)\n"
     ]
    },
    {
     "name": "stderr",
     "output_type": "stream",
     "text": [
      "\u001b[34m\u001b[1mval: \u001b[0mScanning /kaggle/working/yolo_dataset/test/labels... 372 images, 0 backgrounds, 0 corrupt: 100%|██████████| 372/372 [00:02<00:00, 132.71it/s]"
     ]
    },
    {
     "name": "stdout",
     "output_type": "stream",
     "text": [
      "\u001b[34m\u001b[1mval: \u001b[0mNew cache created: /kaggle/working/yolo_dataset/test/labels.cache\n"
     ]
    },
    {
     "name": "stderr",
     "output_type": "stream",
     "text": [
      "\n",
      "                 Class     Images  Instances      Box(P          R      mAP50  mAP50-95): 100%|██████████| 47/47 [00:08<00:00,  5.31it/s]\n"
     ]
    },
    {
     "name": "stdout",
     "output_type": "stream",
     "text": [
      "                   all        372       1573      0.858      0.866      0.933      0.781\n"
     ]
    },
    {
     "name": "stderr",
     "output_type": "stream",
     "text": [
      "/usr/local/lib/python3.10/dist-packages/matplotlib/colors.py:721: RuntimeWarning: invalid value encountered in less\n",
      "  xa[xa < 0] = -1\n",
      "/usr/local/lib/python3.10/dist-packages/matplotlib/colors.py:721: RuntimeWarning: invalid value encountered in less\n",
      "  xa[xa < 0] = -1\n"
     ]
    },
    {
     "name": "stdout",
     "output_type": "stream",
     "text": [
      "Speed: 1.5ms preprocess, 6.0ms inference, 0.0ms loss, 3.6ms postprocess per image\n",
      "Results saved to \u001b[1m/kaggle/working/runs/yolov8-obb-train3\u001b[0m\n",
      "Test mAP@0.5: 0.9327\n",
      "Test mAP@0.5:0.95: 0.7811\n",
      "Test metrics: ultralytics.utils.metrics.OBBMetrics object with attributes:\n",
      "\n",
      "ap_class_index: array([0])\n",
      "box: ultralytics.utils.metrics.Metric object\n",
      "confusion_matrix: <ultralytics.utils.metrics.ConfusionMatrix object at 0x79f19bb27490>\n",
      "curves: []\n",
      "curves_results: []\n",
      "fitness: 0.7962860840829062\n",
      "keys: ['metrics/precision(B)', 'metrics/recall(B)', 'metrics/mAP50(B)', 'metrics/mAP50-95(B)']\n",
      "maps: array([    0.78113])\n",
      "names: {0: 'ship'}\n",
      "plot: True\n",
      "results_dict: {'metrics/precision(B)': 0.8578301104063907, 'metrics/recall(B)': 0.866497139224412, 'metrics/mAP50(B)': 0.9326935413572648, 'metrics/mAP50-95(B)': 0.7811296999413109, 'fitness': 0.7962860840829062}\n",
      "save_dir: PosixPath('/kaggle/working/runs/yolov8-obb-train3')\n",
      "speed: {'preprocess': 1.475803548395737, 'inference': 5.959981553746485, 'loss': 0.0024298037592954094, 'postprocess': 3.5856312983899548}\n"
     ]
    }
   ],
   "source": [
    "test_metrics = model.val(task=\"obb\", split=\"test\")\n",
    "print(f\"Test mAP@0.5: {test_metrics.box.map50:.4f}\")\n",
    "print(f\"Test mAP@0.5:0.95: {test_metrics.box.map:.4f}\")\n",
    "print(\"Test metrics:\", test_metrics)"
   ]
  },
  {
   "cell_type": "code",
   "execution_count": 10,
   "id": "3213e34c",
   "metadata": {
    "execution": {
     "iopub.execute_input": "2025-03-04T12:37:13.671759Z",
     "iopub.status.busy": "2025-03-04T12:37:13.671404Z",
     "iopub.status.idle": "2025-03-04T12:37:18.121622Z",
     "shell.execute_reply": "2025-03-04T12:37:18.120863Z"
    },
    "papermill": {
     "duration": 6.477862,
     "end_time": "2025-03-04T12:37:18.122867",
     "exception": false,
     "start_time": "2025-03-04T12:37:11.645005",
     "status": "completed"
    },
    "tags": []
   },
   "outputs": [
    {
     "name": "stdout",
     "output_type": "stream",
     "text": [
      "Ultralytics 8.3.82 🚀 Python-3.10.12 torch-2.5.1+cu121 CPU (Intel Xeon 2.00GHz)\n",
      "\n",
      "\u001b[34m\u001b[1mPyTorch:\u001b[0m starting from '/kaggle/working/runs/yolov8-obb-train/weights/best.pt' with input shape (1, 3, 1024, 1024) BCHW and output shape(s) (1, 6, 21504) (6.3 MB)\n",
      "\n",
      "\u001b[34m\u001b[1mTorchScript:\u001b[0m starting export with torch 2.5.1+cu121...\n",
      "\u001b[34m\u001b[1mTorchScript:\u001b[0m export success ✅ 2.6s, saved as '/kaggle/working/runs/yolov8-obb-train/weights/best.torchscript' (12.4 MB)\n",
      "\n",
      "Export complete (4.4s)\n",
      "Results saved to \u001b[1m/kaggle/working/runs/yolov8-obb-train/weights\u001b[0m\n",
      "Predict:         yolo predict task=obb model=/kaggle/working/runs/yolov8-obb-train/weights/best.torchscript imgsz=1024  \n",
      "Validate:        yolo val task=obb model=/kaggle/working/runs/yolov8-obb-train/weights/best.torchscript imgsz=1024 data=/kaggle/working/yolo_dataset/dataset.yaml  \n",
      "Visualize:       https://netron.app\n",
      "Model exported to TorchScript format.\n"
     ]
    }
   ],
   "source": [
    "model.export(format=\"torchscript\")\n",
    "print(\"Model exported to TorchScript format.\")"
   ]
  },
  {
   "cell_type": "code",
   "execution_count": null,
   "id": "307adfcf",
   "metadata": {
    "papermill": {
     "duration": 1.996061,
     "end_time": "2025-03-04T12:37:22.329898",
     "exception": false,
     "start_time": "2025-03-04T12:37:20.333837",
     "status": "completed"
    },
    "tags": []
   },
   "outputs": [],
   "source": []
  }
 ],
 "metadata": {
  "kaggle": {
   "accelerator": "gpu",
   "dataSources": [
    {
     "datasetId": 6771261,
     "sourceId": 10895847,
     "sourceType": "datasetVersion"
    }
   ],
   "dockerImageVersionId": 30919,
   "isGpuEnabled": true,
   "isInternetEnabled": true,
   "language": "python",
   "sourceType": "notebook"
  },
  "kernelspec": {
   "display_name": "Python 3",
   "language": "python",
   "name": "python3"
  },
  "language_info": {
   "codemirror_mode": {
    "name": "ipython",
    "version": 3
   },
   "file_extension": ".py",
   "mimetype": "text/x-python",
   "name": "python",
   "nbconvert_exporter": "python",
   "pygments_lexer": "ipython3",
   "version": "3.10.12"
  },
  "papermill": {
   "default_parameters": {},
   "duration": 5181.429065,
   "end_time": "2025-03-04T12:37:28.377361",
   "environment_variables": {},
   "exception": null,
   "input_path": "__notebook__.ipynb",
   "output_path": "__notebook__.ipynb",
   "parameters": {},
   "start_time": "2025-03-04T11:11:06.948296",
   "version": "2.6.0"
  }
 },
 "nbformat": 4,
 "nbformat_minor": 5
}
